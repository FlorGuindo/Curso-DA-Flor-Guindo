{
 "cells": [
  {
   "cell_type": "markdown",
   "metadata": {},
   "source": [
    "# Probability"
   ]
  },
  {
   "cell_type": "markdown",
   "metadata": {},
   "source": [
    "## Reto 1\n",
    "Hay una caja con 10 bolas blancas, 12 bolas rojas y 8 bolas negras. Calcula la probabilidad de:\n",
    "* Sacar una bola blanca.\n",
    "* Sacar una bola blanca en la primera extracción y una bola negra en la segunda extracción sin reemplazar la primera.\n",
    "* Sacar una bola blanca en la primera extracción y una bola negra en la segunda extracción reemplazando la primera.\n",
    "* Sacar 3 bolas y que sean todas de diferentes colores."
   ]
  },
  {
   "cell_type": "code",
   "execution_count": 27,
   "metadata": {},
   "outputs": [
    {
     "name": "stdout",
     "output_type": "stream",
     "text": [
      "La probabilidad de sacar una bola blanca es: 0.33\n",
      "La probabilidad de sacar una bola blanca en la primera extracción y una bola negra en la segunda extracción sin reemplazar la primera: 0.092\n",
      "La probabilidad de sacar  una bola blanca en la primera extracción y una bola negra en la segunda extracción reemplazando la primera: 0.089\n",
      "La probabilidad de sacar tres bolas de diferentes colores es: 0.24\n"
     ]
    }
   ],
   "source": [
    "unabolablanca = 10/(10+12+8)\n",
    "print(f'La probabilidad de sacar una bola blanca es: {unabolablanca:.2}')\n",
    "bolanegrasegunda = unabolablanca * (8/(9+12+8))\n",
    "print(f'La probabilidad de sacar una bola blanca en la primera extracción y una bola negra en la segunda extracción sin reemplazar la primera: {bolanegrasegunda:.2}')\n",
    "bolanegrasegundaconreemplazo = unabolablanca * (8/(10+12+8))\n",
    "print(f'La probabilidad de sacar  una bola blanca en la primera extracción y una bola negra en la segunda extracción reemplazando la primera: {bolanegrasegundaconreemplazo:.2}')\n",
    "# B R N, B N R, R B N, R N B, N B R, N R B\n",
    "bolaroja = 12/27\n",
    "tresdistintas = 6 * (unabolablanca * bolanegrasegunda * bolaroja)\n",
    "tresdistintas\n",
    "\n",
    "bolaroja = 12 / 29\n",
    "bolanegranueva = 8 / 28\n",
    "tresdistintas = 6 * (unabolablanca * bolaroja * bolanegranueva)\n",
    "print(f'La probabilidad de sacar tres bolas de diferentes colores es: {tresdistintas:.2f}')"
   ]
  },
  {
   "cell_type": "markdown",
   "metadata": {},
   "source": [
    "## Reto 2\n",
    "\n",
    "Quieres ir de picnic el sábado. Odias la lluvia y quieres planificar tu fin de semana. Para ayudarte a tomar una decisión, recopilas los siguientes datos sobre los días lluviosos:\n",
    "\n",
    "* El 40% de todos los días están nublados.\n",
    "* Aproximadamente el 50% de los días nublados son lluviosos.\n",
    "* Aproximadamente el 20% de los días no nublados son lluviosos.\n",
    "\n",
    "¿Cuál es la probabilidad de que llueva el próximo sábado?"
   ]
  },
  {
   "cell_type": "code",
   "execution_count": 51,
   "metadata": {},
   "outputs": [
    {
     "name": "stdout",
     "output_type": "stream",
     "text": [
      "Si el sábado esta nublado la posibilidad de lluvia es de 0.2\n",
      "Si el sábado no esta nublado la posibilidad de lluvia es de 0.12\n",
      "La probabilidad total de que llueva el sabado es de 0.32\n"
     ]
    }
   ],
   "source": [
    "sabado_nublado = 0.4 * 0.5\n",
    "sabado_nublado\n",
    "print(f'Si el sábado esta nublado la posibilidad de lluvia es de {sabado_nublado}')\n",
    "sabado_no_nublado = 0.6 * 0.2\n",
    "sabado_no_nublado\n",
    "print(f'Si el sábado no esta nublado la posibilidad de lluvia es de {sabado_no_nublado}')\n",
    "sabado = sabado_nublado + sabado_no_nublado\n",
    "print(f'La probabilidad total de que llueva el sabado es de {sabado}')"
   ]
  },
  {
   "cell_type": "markdown",
   "metadata": {},
   "source": [
    "## Reto 3\n",
    "\n",
    "A y B son eventos de una probabilidad tal que \\(P(A) = 0.3\\), \\(P(B) = 0.6\\) y \\(P(A \\cap B) = 0.1\\)\n",
    "\n",
    "¿Cuáles de las siguientes afirmaciones son verdaderas?\n",
    "**SUGERENCIA: dibuja un gran diagrama de Venn a tu lado**\n",
    "* \\(P(\\overline{A}) = 0.7\\)\n",
    "* \\(P(A \\cup B) = 0.6\\)\n",
    "* \\(P(A \\cap \\overline{B}) = 0.2\\)\n",
    "* \\(P(A \\cup \\overline{A}) = 1\\)  \n",
    "* \\(P(A \\cap (B \\cup \\overline{B})) = 0.4\\)\n",
    "* \\(P(\\overline{A} \\cap \\overline{B}) = 0.3\\)\n",
    "* \\(P(\\overline{A \\cap B}) = 0.9\\)"
   ]
  },
  {
   "cell_type": "code",
   "execution_count": 51,
   "metadata": {},
   "outputs": [
    {
     "name": "stdout",
     "output_type": "stream",
     "text": [
      "0.7\n",
      "(P(overline A ) = 0.7) es True\n",
      "-------------------------------------------------\n",
      "0.7999999999999999\n",
      " (P(A cup B) = 0.6) es False\n",
      "-------------------------------------------------\n",
      "0.19999999999999998\n",
      " (P(A cap overline B) = 0.2) es False\n",
      "Es Verdadero\n",
      "-------------------------------------------------\n",
      "1.0\n",
      "(P(A cup overline A) = 1) es True\n",
      "-------------------------------------------------\n",
      "0.3\n",
      "(P(A cap (B cup overline B)) = 0.4) es False\n",
      "-------------------------------------------------\n",
      "0.20000000000000007\n",
      "(P(overline A cap overline B) = 0.3) es False\n",
      "-------------------------------------------------\n",
      "0.9\n",
      "(P(overline (A cap B)) = 0.9) es True\n"
     ]
    }
   ],
   "source": [
    "prob_A = 0.3\n",
    "prob_B = 0.6\n",
    "prob_AB = 0.1\n",
    "\n",
    "#(P(\\overline{A}) = 0.7)\n",
    "NoA = 1 - prob_A\n",
    "print(NoA)\n",
    "print(f'(P(overline A ) = 0.7) es {NoA == 0.7}')\n",
    "print('-------------------------------------------------')\n",
    "#(P(A \\cup B) = 0.6)\n",
    "AoB = prob_A + prob_B - prob_AB\n",
    "print (AoB)\n",
    "print(f' (P(A cup B) = 0.6) es {AoB == 0.6}')\n",
    "print('-------------------------------------------------')\n",
    "#(P(A \\cap \\overline{B}) = 0.2)\n",
    "A_no_B = prob_A - prob_AB\n",
    "print(A_no_B)\n",
    "print(f' (P(A cap overline B) = 0.2) es {A_no_B == 0.2}')\n",
    "print('Es Verdadero')\n",
    "print('-------------------------------------------------')\n",
    "#(P(A \\cup \\overline{A}) = 1)\n",
    "A_o_NoA = prob_A + (1 - prob_A)\n",
    "print(A_o_NoA)\n",
    "print(f'(P(A cup overline A) = 1) es {A_o_NoA == 1}')\n",
    "print('-------------------------------------------------')\n",
    "#(P(A \\cap (B \\cup \\overline{B})) = 0.4)\n",
    "AenB_oNoenB = prob_A * (prob_B) + prob_A * (1 - prob_B)\n",
    "print(AenB_oNoenB)\n",
    "print(f'(P(A cap (B cup overline B)) = 0.4) es {AenB_oNoenB == 0.4}')\n",
    "print('-------------------------------------------------')\n",
    "# (P(\\overline{A} \\cap \\overline{B}) = 0.3)\n",
    "NoA_NoB = 1 - AoB\n",
    "print(NoA_NoB)\n",
    "print(f'(P(overline A cap overline B) = 0.3) es {NoA_NoB == 0.3}')\n",
    "print('-------------------------------------------------')\n",
    "# (P(\\overline{A \\cap B}) = 0.9)\n",
    "NoAB = 1 - prob_AB\n",
    "print(NoAB)\n",
    "print(f'(P(overline (A cap B)) = 0.9) es {NoAB == 0.9}')"
   ]
  },
  {
   "cell_type": "markdown",
   "metadata": {},
   "source": [
    "## Reto 4\n",
    "\n",
    "* Si alguien viaja a China, la probabilidad de contraer Covid es del 1%\n",
    "* Si alguien viaja a Italia, la probabilidad de contraer Covid es del 20%\n",
    "\n",
    "Lanzo un dado con números 1, 2, 3, 4, 5, 6:\n",
    "* Si sale 1: Vuelo a Italia\n",
    "* Si no sale 1: Vuelo a China\n",
    "\n",
    "Durante mi viaje, contraje Covid. ¿Cuál es la probabilidad de que haya volado a China?"
   ]
  },
  {
   "cell_type": "code",
   "execution_count": 57,
   "metadata": {},
   "outputs": [
    {
     "name": "stdout",
     "output_type": "stream",
     "text": [
      "La probabilidad de que haya volado a China es de 0.8333333333333334\n"
     ]
    }
   ],
   "source": [
    "prob_Italia = 1/6\n",
    "prob_china = 5/6\n",
    "\n",
    "print(f'La probabilidad de que haya volado a China es de {prob_china}')"
   ]
  },
  {
   "cell_type": "markdown",
   "metadata": {},
   "source": [
    "## BONUS\n",
    "\n",
    "Lanzas 2 dados. ¿Cuál es la probabilidad de que la suma de los números sea 7? ¿Y 8? ¿Y 9? Luego simula 10000 veces y dibuja un gráfico de conteo.\n",
    "\n",
    "tu explicación aquí"
   ]
  },
  {
   "cell_type": "code",
   "execution_count": 63,
   "metadata": {},
   "outputs": [
    {
     "name": "stdout",
     "output_type": "stream",
     "text": [
      "La probabilidad de que sumen 7 es de 0.16666666666666666\n",
      "La probabilidad de que sumen 8 es de 0.1388888888888889\n",
      "La probabilidad de que sumen 7 es de 0.1111111111111111\n"
     ]
    }
   ],
   "source": [
    "# 1 + 6, 2 + 5, 3 + 4, 6 + 1, 5 + 2, 4 + 3\n",
    "combTot = 6*6\n",
    "prob7 = 6 / combTot\n",
    "print(f'La probabilidad de que sumen 7 es de {prob7}')\n",
    "# 2 + 6, 3 + 5, 6 + 2, 5 + 3, 4 + 4\n",
    "prob8 = 5 / combTot\n",
    "print(f'La probabilidad de que sumen 8 es de {prob8}')\n",
    "# 3 + 6, 3 + 6, 4 + 5, 5 + 4\n",
    "prob9 = 4 / combTot\n",
    "print(f'La probabilidad de que sumen 9 es de {prob9}')"
   ]
  },
  {
   "cell_type": "code",
   "execution_count": 87,
   "metadata": {},
   "outputs": [
    {
     "data": {
      "image/png": "[encoded data removed]",
      "text/plain": [
       "<Figure size 640x480 with 1 Axes>"
      ]
     },
     "metadata": {},
     "output_type": "display_data"
    }
   ],
   "source": [
    "import random\n",
    "import matplotlib.pyplot as plt\n",
    "\n",
    "n_simulaciones = 10000\n",
    "resultados = []\n",
    "\n",
    "for i in range(n_simulaciones):\n",
    "    dado1 = random.randint(1, 6)\n",
    "    dado2 = random.randint(1, 6)\n",
    "    suma = dado1 + dado2\n",
    "    resultados.append(suma)\n",
    "\n",
    "conteo = {i: resultados.count(i) for i in range(2, 13)}\n",
    "\n",
    "plt.bar(conteo.keys(), conteo.values(), color='blue', alpha=0.7)\n",
    "plt.xlabel('Suma de los dos dados')\n",
    "plt.ylabel('Frecuencia')\n",
    "plt.title('Frecuencia de sumas al lanzar 2 dados')\n",
    "plt.xticks(range(2, 13))\n",
    "plt.grid(axis='y')\n",
    "\n",
    "plt.show()\n"
   ]
  }
 ],
 "metadata": {
  "kernelspec": {
   "display_name": "Python 3 (ipykernel)",
   "language": "python",
   "name": "python3"
  },
  "language_info": {
   "codemirror_mode": {
    "name": "ipython",
    "version": 3
   },
   "file_extension": ".py",
   "mimetype": "text/x-python",
   "name": "python",
   "nbconvert_exporter": "python",
   "pygments_lexer": "ipython3",
   "version": "3.12.4"
  },
  "toc": {
   "base_numbering": 1,
   "nav_menu": {},
   "number_sections": false,
   "sideBar": true,
   "skip_h1_title": false,
   "title_cell": "Table of Contents",
   "title_sidebar": "Contents",
   "toc_cell": false,
   "toc_position": {
    "height": "calc(100% - 180px)",
    "left": "10px",
    "top": "150px",
    "width": "296.475px"
   },
   "toc_section_display": true,
   "toc_window_display": false
  },
  "varInspector": {
   "cols": {
    "lenName": 16,
    "lenType": 16,
    "lenVar": 40
   },
   "kernels_config": {
    "python": {
     "delete_cmd_postfix": "",
     "delete_cmd_prefix": "del ",
     "library": "var_list.py",
     "varRefreshCmd": "print(var_dic_list())"
    },
    "r": {
     "delete_cmd_postfix": ") ",
     "delete_cmd_prefix": "rm(",
     "library": "var_list.r",
     "varRefreshCmd": "cat(var_dic_list()) "
    }
   },
   "types_to_exclude": [
    "module",
    "function",
    "builtin_function_or_method",
    "instance",
    "_Feature"
   ],
   "window_display": false
  }
 },
 "nbformat": 4,
 "nbformat_minor": 4
}
