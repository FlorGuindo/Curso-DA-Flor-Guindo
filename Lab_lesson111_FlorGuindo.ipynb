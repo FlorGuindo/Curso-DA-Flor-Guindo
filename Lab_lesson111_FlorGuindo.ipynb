{
 "cells": [
  {
   "cell_type": "code",
   "execution_count": null,
   "id": "b08bf1d5-1991-4ded-9300-c0e6136b383f",
   "metadata": {},
   "outputs": [],
   "source": [
    "#1. Importa el paquete NUMPY bajo el nombre np."
   ]
  },
  {
   "cell_type": "code",
   "execution_count": 7,
   "id": "c3cf9fb8-4994-466a-8eac-735424b94eb8",
   "metadata": {},
   "outputs": [],
   "source": [
    "import numpy as np"
   ]
  },
  {
   "cell_type": "code",
   "execution_count": 9,
   "id": "de50b5b6-b317-4800-b055-264d69789d63",
   "metadata": {},
   "outputs": [
    {
     "name": "stdout",
     "output_type": "stream",
     "text": [
      "1.26.4\n"
     ]
    }
   ],
   "source": [
    "#2. Imprime la versión de NUMPY y la configuración.\n",
    "print(np.version.version)"
   ]
  },
  {
   "cell_type": "code",
   "execution_count": 45,
   "id": "7026266c-427a-401b-b750-e9bab08b617a",
   "metadata": {},
   "outputs": [
    {
     "name": "stdout",
     "output_type": "stream",
     "text": [
      "El array llamado a es:  \n",
      "[[[0.46179172 0.88183129 0.79790059 0.96137263 0.22973684]\n",
      "  [0.5988349  0.99480594 0.17721275 0.07954599 0.40730953]\n",
      "  [0.6250159  0.99082153 0.48029938 0.63750985 0.31699168]]\n",
      "\n",
      " [[0.91473657 0.86897272 0.36617395 0.02065339 0.85048542]\n",
      "  [0.74573528 0.61056671 0.47794436 0.46983559 0.1296528 ]\n",
      "  [0.51827737 0.09620484 0.92168338 0.62438892 0.6695454 ]]]\n"
     ]
    }
   ],
   "source": [
    "#3. Genera un array tridimensional de 2x3x5 con valores aleatorios. Asigna el array a la variable \"a\"\n",
    "a = np.random.random((2, 3, 5))\n",
    "print(f\"El array llamado a es:  \\n{a}\")"
   ]
  },
  {
   "cell_type": "code",
   "execution_count": 59,
   "id": "40a9e652-9e9d-41c1-aebe-2557cd6f78a4",
   "metadata": {},
   "outputs": [
    {
     "name": "stdout",
     "output_type": "stream",
     "text": [
      "El array llamado a es:  \n",
      "[[[1 1 1]\n",
      "  [1 1 1]]\n",
      "\n",
      " [[1 1 1]\n",
      "  [1 1 1]]\n",
      "\n",
      " [[1 1 1]\n",
      "  [1 1 1]]\n",
      "\n",
      " [[1 1 1]\n",
      "  [1 1 1]]\n",
      "\n",
      " [[1 1 1]\n",
      "  [1 1 1]]]\n"
     ]
    }
   ],
   "source": [
    "#5. Crea un array tridimensional de 5x2x3 con todos los valores igual a 1.\n",
    "#Asigna el array a la variable \"b\"\n",
    "\n",
    "b = np.ones((5, 2, 3),dtype=int)\n",
    "#6. Imprime b.\n",
    "print(f\"El array llamado a es:  \\n{b}\")"
   ]
  },
  {
   "cell_type": "code",
   "execution_count": 61,
   "id": "c94d6231-53dc-4c52-8ca7-d697ff98867a",
   "metadata": {},
   "outputs": [
    {
     "data": {
      "text/plain": [
       "True"
      ]
     },
     "execution_count": 61,
     "metadata": {},
     "output_type": "execute_result"
    }
   ],
   "source": [
    "#7. ¿Tienen a y b el mismo tamaño? ¿Cómo lo demuestras en código Python?\n",
    "np.size(a) == np.size(b)"
   ]
  },
  {
   "cell_type": "code",
   "execution_count": 69,
   "id": "5fef5aa2-f692-47f3-92ee-74ad8fb76006",
   "metadata": {},
   "outputs": [
    {
     "name": "stdout",
     "output_type": "stream",
     "text": [
      "a y b no se pueden sumar porque no tienen la misma forma\n"
     ]
    }
   ],
   "source": [
    "#8. ¿Es posible sumar a y b? ¿Por qué sí o por qué no?\n",
    "    #c = a + b\n",
    "#ValueError: operands could not be broadcast together with shapes (2,3,5) (5,2,3) \n",
    "try: \n",
    "    a + b\n",
    "except ValueError:\n",
    "    print(\"a y b no se pueden sumar porque no tienen la misma forma\")\n",
    "# No se pueden sumar porque no tienen la misma forma"
   ]
  },
  {
   "cell_type": "code",
   "execution_count": null,
   "id": "4cb815f5-8b2d-4922-9911-4d33627b1612",
   "metadata": {},
   "outputs": [],
   "source": [
    "#9. Transpone b para que tenga la misma estructura que a (es decir, se convierta en un array de 2x3x5). Asigna el array transpuesto a la variable \"c\"."
   ]
  },
  {
   "cell_type": "code",
   "execution_count": 79,
   "id": "d0eb71a5-1497-409b-b271-e0cd2d032521",
   "metadata": {},
   "outputs": [
    {
     "data": {
      "text/plain": [
       "array([[[1, 1, 1, 1, 1],\n",
       "        [1, 1, 1, 1, 1]],\n",
       "\n",
       "       [[1, 1, 1, 1, 1],\n",
       "        [1, 1, 1, 1, 1]],\n",
       "\n",
       "       [[1, 1, 1, 1, 1],\n",
       "        [1, 1, 1, 1, 1]]])"
      ]
     },
     "execution_count": 79,
     "metadata": {},
     "output_type": "execute_result"
    }
   ],
   "source": [
    "c = np.transpose(b)\n",
    "c"
   ]
  },
  {
   "cell_type": "code",
   "execution_count": 85,
   "id": "64c37b5a-9dec-42d0-b36b-06e9d9524126",
   "metadata": {},
   "outputs": [
    {
     "ename": "ValueError",
     "evalue": "operands could not be broadcast together with shapes (2,3,5) (3,2,5) ",
     "output_type": "error",
     "traceback": [
      "\u001b[1;31m---------------------------------------------------------------------------\u001b[0m",
      "\u001b[1;31mValueError\u001b[0m                                Traceback (most recent call last)",
      "Cell \u001b[1;32mIn[85], line 2\u001b[0m\n\u001b[0;32m      1\u001b[0m \u001b[38;5;66;03m#10. Intenta sumar a y c. Ahora debería funcionar. Asigna la suma a la variable \"d\". Pero, ¿por qué funciona ahora?\u001b[39;00m\n\u001b[1;32m----> 2\u001b[0m d \u001b[38;5;241m=\u001b[39m a \u001b[38;5;241m+\u001b[39m c\n",
      "\u001b[1;31mValueError\u001b[0m: operands could not be broadcast together with shapes (2,3,5) (3,2,5) "
     ]
    }
   ],
   "source": [
    "#10. Intenta sumar a y c. Ahora debería funcionar. Asigna la suma a la variable \"d\". Pero, ¿por qué funciona ahora?\n",
    "d = a + c\n",
    "# Con el tipeo incial tampoco se puede ya que aunque se transponga b, siguen quedando con forma diferente (2,3,5) (3,2,5).\n",
    "# Suponemos que fue un error de tipeo y que la creacion deberia crearse como 5, 3, 2."
   ]
  },
  {
   "cell_type": "code",
   "execution_count": 87,
   "id": "637b5bfa-5b57-4b21-bec8-3c629d5ca11c",
   "metadata": {},
   "outputs": [],
   "source": [
    "b = np.ones((5, 3, 2),dtype=int)"
   ]
  },
  {
   "cell_type": "code",
   "execution_count": 89,
   "id": "58206541-1afd-46fb-aa3b-36030c8f6d5f",
   "metadata": {},
   "outputs": [
    {
     "data": {
      "text/plain": [
       "array([[[1, 1, 1, 1, 1],\n",
       "        [1, 1, 1, 1, 1],\n",
       "        [1, 1, 1, 1, 1]],\n",
       "\n",
       "       [[1, 1, 1, 1, 1],\n",
       "        [1, 1, 1, 1, 1],\n",
       "        [1, 1, 1, 1, 1]]])"
      ]
     },
     "execution_count": 89,
     "metadata": {},
     "output_type": "execute_result"
    }
   ],
   "source": [
    "c = np.transpose(b)\n",
    "c"
   ]
  },
  {
   "cell_type": "code",
   "execution_count": 93,
   "id": "8439dc97-6743-4b21-931b-dbc4381772c3",
   "metadata": {},
   "outputs": [
    {
     "data": {
      "text/plain": [
       "array([[[1.46179172, 1.88183129, 1.79790059, 1.96137263, 1.22973684],\n",
       "        [1.5988349 , 1.99480594, 1.17721275, 1.07954599, 1.40730953],\n",
       "        [1.6250159 , 1.99082153, 1.48029938, 1.63750985, 1.31699168]],\n",
       "\n",
       "       [[1.91473657, 1.86897272, 1.36617395, 1.02065339, 1.85048542],\n",
       "        [1.74573528, 1.61056671, 1.47794436, 1.46983559, 1.1296528 ],\n",
       "        [1.51827737, 1.09620484, 1.92168338, 1.62438892, 1.6695454 ]]])"
      ]
     },
     "execution_count": 93,
     "metadata": {},
     "output_type": "execute_result"
    }
   ],
   "source": [
    "d = a + c\n",
    "d\n",
    "\n",
    "#Ahora si se pueden sumar porque tienen la misma forma."
   ]
  },
  {
   "cell_type": "code",
   "execution_count": 103,
   "id": "7c7f44b2-83e8-42e4-92eb-e06ea9d2734e",
   "metadata": {
    "scrolled": true
   },
   "outputs": [
    {
     "name": "stdout",
     "output_type": "stream",
     "text": [
      "[[[0.46179172 0.88183129 0.79790059 0.96137263 0.22973684]\n",
      "  [0.5988349  0.99480594 0.17721275 0.07954599 0.40730953]\n",
      "  [0.6250159  0.99082153 0.48029938 0.63750985 0.31699168]]\n",
      "\n",
      " [[0.91473657 0.86897272 0.36617395 0.02065339 0.85048542]\n",
      "  [0.74573528 0.61056671 0.47794436 0.46983559 0.1296528 ]\n",
      "  [0.51827737 0.09620484 0.92168338 0.62438892 0.6695454 ]]]\n",
      "-----------------------------------------------------------\n",
      "[[[1.46179172 1.88183129 1.79790059 1.96137263 1.22973684]\n",
      "  [1.5988349  1.99480594 1.17721275 1.07954599 1.40730953]\n",
      "  [1.6250159  1.99082153 1.48029938 1.63750985 1.31699168]]\n",
      "\n",
      " [[1.91473657 1.86897272 1.36617395 1.02065339 1.85048542]\n",
      "  [1.74573528 1.61056671 1.47794436 1.46983559 1.1296528 ]\n",
      "  [1.51827737 1.09620484 1.92168338 1.62438892 1.6695454 ]]]\n"
     ]
    }
   ],
   "source": [
    "#11. Imprime a y d. ¿Notas la diferencia y la relación entre los dos arrays en términos de los valores? Explica.\n",
    "\n",
    "print(a)\n",
    "print(\"-----------------------------------------------------------\")\n",
    "print(d)\n",
    "\n",
    "# A los valores de \"a\" se le agrego un 1, que eran los valores de \"b\"/\"c\", resultando en los valores de \"d\"."
   ]
  },
  {
   "cell_type": "code",
   "execution_count": 115,
   "id": "c7b43689-b3bd-49ef-b7e2-6d62ad56cfef",
   "metadata": {},
   "outputs": [
    {
     "name": "stdout",
     "output_type": "stream",
     "text": [
      "[[[0.46179172 0.88183129 0.79790059 0.96137263 0.22973684]\n",
      "  [0.5988349  0.99480594 0.17721275 0.07954599 0.40730953]\n",
      "  [0.6250159  0.99082153 0.48029938 0.63750985 0.31699168]]\n",
      "\n",
      " [[0.91473657 0.86897272 0.36617395 0.02065339 0.85048542]\n",
      "  [0.74573528 0.61056671 0.47794436 0.46983559 0.1296528 ]\n",
      "  [0.51827737 0.09620484 0.92168338 0.62438892 0.6695454 ]]]\n",
      "True\n"
     ]
    },
    {
     "data": {
      "text/plain": [
       "array([[[ True,  True,  True,  True,  True],\n",
       "        [ True,  True,  True,  True,  True],\n",
       "        [ True,  True,  True,  True,  True]],\n",
       "\n",
       "       [[ True,  True,  True,  True,  True],\n",
       "        [ True,  True,  True,  True,  True],\n",
       "        [ True,  True,  True,  True,  True]]])"
      ]
     },
     "execution_count": 115,
     "metadata": {},
     "output_type": "execute_result"
    }
   ],
   "source": [
    "#12. Multiplica a y c. Asigna el resultado a e.\n",
    "e = a * c\n",
    "print (e)\n",
    "#13. ¿Es e igual a a? ¿Por qué sí o por qué no?\n",
    "\n",
    "print(np.array_equal(e,a))\n",
    "e == a\n",
    "\n",
    "# Si, es igual a \"a\" ya que todo numero multiplicado por 1 es igual a su valor."
   ]
  },
  {
   "cell_type": "code",
   "execution_count": 117,
   "id": "071b1123-5c6f-458c-9e00-475108e221dd",
   "metadata": {
    "scrolled": true
   },
   "outputs": [
    {
     "name": "stdout",
     "output_type": "stream",
     "text": [
      "d_max es igual a 1.9948059416677817\n",
      "d_min es igual a 1.0206533862233806\n",
      "d_mean es igual a 1.5641945726965365\n"
     ]
    }
   ],
   "source": [
    "#14. Identifica los valores máximos, mínimos y medios en d. Asigna esos valores a las variables \"d_max\", \"d_min\" y \"d_mean\"\n",
    "\n",
    "d_max = np.max(d)\n",
    "print(f\"d_max es igual a {d_max}\")\n",
    "d_min = np.min(d)\n",
    "print(f\"d_min es igual a {d_min}\")\n",
    "d_mean = np.mean(d)\n",
    "print(f\"d_mean es igual a {d_mean}\")"
   ]
  },
  {
   "cell_type": "code",
   "execution_count": 147,
   "id": "6c85fcd5-dde2-4af2-9c1b-2a5cb46440e5",
   "metadata": {},
   "outputs": [
    {
     "data": {
      "text/plain": [
       "array([[[0.46179172, 0.88183129, 0.79790059, 0.96137263, 0.22973684],\n",
       "        [0.5988349 , 0.99480594, 0.17721275, 0.07954599, 0.40730953],\n",
       "        [0.6250159 , 0.99082153, 0.48029938, 0.63750985, 0.31699168]],\n",
       "\n",
       "       [[0.91473657, 0.86897272, 0.36617395, 0.02065339, 0.85048542],\n",
       "        [0.74573528, 0.61056671, 0.47794436, 0.46983559, 0.1296528 ],\n",
       "        [0.51827737, 0.09620484, 0.92168338, 0.62438892, 0.6695454 ]]])"
      ]
     },
     "execution_count": 147,
     "metadata": {},
     "output_type": "execute_result"
    }
   ],
   "source": [
    "#15. Ahora queremos etiquetar los valores en d. Primero crea un array vacío \"f\" con la misma forma (es decir, 2x3x5) que d usando `np.empty`.\n",
    "\n",
    "f = np.empty_like(d)\n",
    "f"
   ]
  },
  {
   "cell_type": "code",
   "execution_count": 157,
   "id": "d8cc3233-6e0b-47fd-8b8a-093ff5760cde",
   "metadata": {},
   "outputs": [
    {
     "name": "stdout",
     "output_type": "stream",
     "text": [
      "[[[ 25.  75.  75.  75.  25.]\n",
      "  [ 75. 100.  25.  25.  25.]\n",
      "  [ 75.  75.  25.  75.  25.]]\n",
      "\n",
      " [[ 75.  75.  25.   0.  75.]\n",
      "  [ 75.  75.  25.  25.  25.]\n",
      "  [ 25.  25.  75.  75.  75.]]]\n"
     ]
    }
   ],
   "source": [
    "#16. Rellena los valores en f. Para cada valor en d, si es mayor que d_min pero menor que d_mean, asigna 25 al valor correspondiente en f.\n",
    "#Si un valor en d es mayor que d_mean pero menor que d_max, asigna 75 al valor correspondiente en f.\n",
    "#Si un valor es igual a d_mean, asigna 50 al valor correspondiente en f.\n",
    "#Asigna 0 al valor correspondiente(s) en f para d_min en d.\n",
    "#Asigna 100 al valor correspondiente(s) en f para d_max en d.\n",
    "#Al final, f debería tener solo los siguientes valores: 0, 25, 50, 75 y 100.\n",
    "#Nota: no necesitas usar Numpy en esta pregunta.\n",
    "\n",
    "#d_min<25<d_mean\n",
    "#d_min<75<d_max\n",
    "#d_mean == 50\n",
    "#d_min == 0\n",
    "#d_max == 100\n",
    "\n",
    "for i in range(len(d)):\n",
    "    for j in range(len(d[i])):\n",
    "        for k in range(len(d[i][j])):\n",
    "            value = d[i][j][k]\n",
    "            if d_min < value < d_mean:\n",
    "                f[i][j][k] = 25\n",
    "            elif d_mean < value < d_max:\n",
    "                f[i][j][k] = 75\n",
    "            elif value == d_mean:\n",
    "                f[i][j][k] = 50\n",
    "            elif value == d_min:\n",
    "                f[i][j][k] = 0\n",
    "            elif value == d_max:\n",
    "                f[i][j][k] = 100\n",
    "\n",
    "print(f)"
   ]
  },
  {
   "cell_type": "code",
   "execution_count": 171,
   "id": "0000c8c6-56e3-4301-8d6c-5a7ee032b613",
   "metadata": {},
   "outputs": [
    {
     "name": "stdout",
     "output_type": "stream",
     "text": [
      "[[[1.46179172 1.88183129 1.79790059 1.96137263 1.22973684]\n",
      "  [1.5988349  1.99480594 1.17721275 1.07954599 1.40730953]\n",
      "  [1.6250159  1.99082153 1.48029938 1.63750985 1.31699168]]\n",
      "\n",
      " [[1.91473657 1.86897272 1.36617395 1.02065339 1.85048542]\n",
      "  [1.74573528 1.61056671 1.47794436 1.46983559 1.1296528 ]\n",
      "  [1.51827737 1.09620484 1.92168338 1.62438892 1.6695454 ]]]\n",
      "-----------------------------------------------------------------\n",
      "Si 1.0206533862233806 < i < 1.5641945726965365, i = 25\n",
      "Si 1.5641945726965365 < i < 1.9948059416677817, i = 75\n",
      "Si 1.0206533862233806 = i = 0\n",
      "Si 1.5641945726965365 = i = 50\n",
      "Si 1.9948059416677817 = i = 100\n",
      "-----------------------------------------------------------------\n",
      "[[[ 25.  75.  75.  75.  25.]\n",
      "  [ 75. 100.  25.  25.  25.]\n",
      "  [ 75.  75.  25.  75.  25.]]\n",
      "\n",
      " [[ 75.  75.  25.   0.  75.]\n",
      "  [ 75.  75.  25.  25.  25.]\n",
      "  [ 25.  25.  75.  75.  75.]]]\n"
     ]
    }
   ],
   "source": [
    "#17. Imprime d y f. ¿Tienes el f esperado?\n",
    "print(d)\n",
    "print(\"-----------------------------------------------------------------\")\n",
    "print(f\"Si {d_min} < i < {d_mean}, i = 25\")\n",
    "print(f\"Si {d_mean} < i < {d_max}, i = 75\")\n",
    "print(f\"Si {d_min} = i = 0\")\n",
    "print(f\"Si {d_mean} = i = 50\")\n",
    "print(f\"Si {d_max} = i = 100\")\n",
    "print(\"-----------------------------------------------------------------\")\n",
    "print(f)\n",
    "\n"
   ]
  },
  {
   "cell_type": "code",
   "execution_count": 187,
   "id": "81fe7be8-8d3a-4c45-a795-5cdf0610ecca",
   "metadata": {},
   "outputs": [
    {
     "name": "stdout",
     "output_type": "stream",
     "text": [
      "[[['B' 'D' 'D' 'D' 'B']\n",
      "  ['D' 'E' 'B' 'B' 'B']\n",
      "  ['D' 'D' 'B' 'D' 'B']]\n",
      "\n",
      " [['D' 'D' 'B' 'A' 'D']\n",
      "  ['D' 'D' 'B' 'B' 'B']\n",
      "  ['B' 'B' 'D' 'D' 'D']]]\n"
     ]
    }
   ],
   "source": [
    "#18. Pregunta de bonificación: en lugar de usar números (es decir, 0, 25, 50, 75 y 100), ¿cómo usar valores de cadena \n",
    "#(\"A\", \"B\", \"C\", \"D\" y \"E\") para etiquetar los elementos del array? Esperas el resultado sea:\n",
    "e = np.empty_like((d),dtype=str)\n",
    "e\n",
    "\n",
    "for i in range(len(d)):\n",
    "    for j in range(len(d[i])):\n",
    "        for k in range(len(d[i][j])):\n",
    "            value = d[i][j][k]\n",
    "            if d_min < value < d_mean:\n",
    "                e[i][j][k] = \"B\"\n",
    "            elif d_mean < value < d_max:\n",
    "                e[i][j][k] = \"D\"\n",
    "            elif value == d_mean:\n",
    "                e[i][j][k] = \"C\"\n",
    "            elif value == d_min:\n",
    "                e[i][j][k] = \"A\"\n",
    "            elif value == d_max:\n",
    "                e[i][j][k] = \"E\"\n",
    "\n",
    "print(e)"
   ]
  },
  {
   "cell_type": "code",
   "execution_count": 179,
   "id": "46b6a6bc-338c-4e4d-8214-e18d9614f53d",
   "metadata": {},
   "outputs": [
    {
     "name": "stdout",
     "output_type": "stream",
     "text": [
      "1.9948059416677817\n",
      "1.0206533862233806\n",
      "1.5641945726965365\n"
     ]
    }
   ],
   "source": [
    "#14. Identifica los valores máximos, mínimos y medios en d. Asigna esos valores a las variables \"d_max\", \"d_min\" y \"d_mean\"\n",
    "\n",
    "d_max = np.max(d)\n",
    "d_min = np.min(d)\n",
    "d_mean = np.mean (d)\n",
    "\n",
    "print(d_max)\n",
    "print(d_min)\n",
    "print(d_mean)"
   ]
  }
 ],
 "metadata": {
  "kernelspec": {
   "display_name": "Python 3 (ipykernel)",
   "language": "python",
   "name": "python3"
  },
  "language_info": {
   "codemirror_mode": {
    "name": "ipython",
    "version": 3
   },
   "file_extension": ".py",
   "mimetype": "text/x-python",
   "name": "python",
   "nbconvert_exporter": "python",
   "pygments_lexer": "ipython3",
   "version": "3.12.4"
  }
 },
 "nbformat": 4,
 "nbformat_minor": 5
}
